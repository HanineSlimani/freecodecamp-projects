{
 "cells": [
  {
   "cell_type": "markdown",
   "id": "f00f18cd",
   "metadata": {},
   "source": [
    "Create a function named calculate() in mean_var_std.py that uses Numpy to output the mean, variance, standard deviation, max, min, and sum of the rows, columns, and elements in a 3 x 3 matrix.\n",
    "\n",
    "The input of the function should be a list containing 9 digits. The function should convert the list into a 3 x 3 Numpy array, and then return a dictionary containing the mean, variance, standard deviation, max, min, and sum along both axes and for the flattened matrix."
   ]
  },
  {
   "cell_type": "code",
   "execution_count": 18,
   "id": "cb4f02d9",
   "metadata": {},
   "outputs": [],
   "source": [
    "import numpy as np"
   ]
  },
  {
   "cell_type": "code",
   "execution_count": 19,
   "id": "cb7668dc",
   "metadata": {},
   "outputs": [],
   "source": [
    "def calculate(input_list):\n",
    "    if len(input_list) != 9:\n",
    "        raise ValueError(\"List must contain nine numbers.\")\n",
    "    \n",
    "    matrix = np.array(input_list).reshape(3, 3)\n",
    "    \n",
    "    calculations = {\n",
    "        'mean': [\n",
    "            matrix.mean(axis=0).tolist(),\n",
    "            matrix.mean(axis=1).tolist(),\n",
    "            matrix.mean().item()\n",
    "        ],\n",
    "        'variance': [\n",
    "            matrix.var(axis=0).tolist(),\n",
    "            matrix.var(axis=1).tolist(),\n",
    "            matrix.var().item()\n",
    "        ],\n",
    "        'standard deviation': [\n",
    "            matrix.std(axis=0).tolist(),\n",
    "            matrix.std(axis=1).tolist(),\n",
    "            matrix.std().item()\n",
    "        ],\n",
    "        'max': [\n",
    "            matrix.max(axis=0).tolist(),\n",
    "            matrix.max(axis=1).tolist(),\n",
    "            matrix.max().item()\n",
    "        ],\n",
    "        'min': [\n",
    "            matrix.min(axis=0).tolist(),\n",
    "            matrix.min(axis=1).tolist(),\n",
    "            matrix.min().item()\n",
    "        ],\n",
    "        'sum': [\n",
    "            matrix.sum(axis=0).tolist(),\n",
    "            matrix.sum(axis=1).tolist(),\n",
    "            matrix.sum().item()\n",
    "        ]\n",
    "    }\n",
    "    \n",
    "    return calculations\n",
    "\n",
    "\n"
   ]
  },
  {
   "cell_type": "code",
   "execution_count": 20,
   "id": "45de34bd",
   "metadata": {},
   "outputs": [
    {
     "data": {
      "text/plain": [
       "{'mean': [[3.0, 4.0, 5.0], [1.0, 4.0, 7.0], 4.0],\n",
       " 'variance': [[6.0, 6.0, 6.0],\n",
       "  [0.6666666666666666, 0.6666666666666666, 0.6666666666666666],\n",
       "  6.666666666666667],\n",
       " 'standard deviation': [[2.449489742783178,\n",
       "   2.449489742783178,\n",
       "   2.449489742783178],\n",
       "  [0.816496580927726, 0.816496580927726, 0.816496580927726],\n",
       "  2.581988897471611],\n",
       " 'max': [[6, 7, 8], [2, 5, 8], 8],\n",
       " 'min': [[0, 1, 2], [0, 3, 6], 0],\n",
       " 'sum': [[9, 12, 15], [3, 12, 21], 36]}"
      ]
     },
     "execution_count": 20,
     "metadata": {},
     "output_type": "execute_result"
    }
   ],
   "source": [
    "calculate([0,1,2,3,4,5,6,7,8])"
   ]
  },
  {
   "cell_type": "code",
   "execution_count": null,
   "id": "dfc28d88",
   "metadata": {},
   "outputs": [],
   "source": []
  }
 ],
 "metadata": {
  "kernelspec": {
   "display_name": "Python 3 (ipykernel)",
   "language": "python",
   "name": "python3"
  },
  "language_info": {
   "codemirror_mode": {
    "name": "ipython",
    "version": 3
   },
   "file_extension": ".py",
   "mimetype": "text/x-python",
   "name": "python",
   "nbconvert_exporter": "python",
   "pygments_lexer": "ipython3",
   "version": "3.10.9"
  }
 },
 "nbformat": 4,
 "nbformat_minor": 5
}
