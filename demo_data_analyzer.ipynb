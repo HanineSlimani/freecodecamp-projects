{
 "cells": [
  {
   "cell_type": "code",
   "execution_count": 2,
   "id": "98277e20",
   "metadata": {},
   "outputs": [],
   "source": [
    "import pandas as pd"
   ]
  },
  {
   "cell_type": "code",
   "execution_count": 5,
   "id": "65f5f780",
   "metadata": {},
   "outputs": [
    {
     "name": "stdout",
     "output_type": "stream",
     "text": [
      "   age         workclass  fnlwgt  education  education-num  \\\n",
      "0   39         State-gov   77516  Bachelors             13   \n",
      "1   50  Self-emp-not-inc   83311  Bachelors             13   \n",
      "2   38           Private  215646    HS-grad              9   \n",
      "3   53           Private  234721       11th              7   \n",
      "4   28           Private  338409  Bachelors             13   \n",
      "\n",
      "       marital-status         occupation   relationship   race     sex  \\\n",
      "0       Never-married       Adm-clerical  Not-in-family  White    Male   \n",
      "1  Married-civ-spouse    Exec-managerial        Husband  White    Male   \n",
      "2            Divorced  Handlers-cleaners  Not-in-family  White    Male   \n",
      "3  Married-civ-spouse  Handlers-cleaners        Husband  Black    Male   \n",
      "4  Married-civ-spouse     Prof-specialty           Wife  Black  Female   \n",
      "\n",
      "   capital-gain  capital-loss  hours-per-week native-country salary  \n",
      "0          2174             0              40  United-States  <=50K  \n",
      "1             0             0              13  United-States  <=50K  \n",
      "2             0             0              40  United-States  <=50K  \n",
      "3             0             0              40  United-States  <=50K  \n",
      "4             0             0              40           Cuba  <=50K  \n"
     ]
    }
   ],
   "source": [
    "file_path = r\"C:\\Users\\Admin\\Basic Folders\\Desktop\\Portfolio\\Python data\\demographic_data.xlsx\"\n",
    "\n",
    "df = pd.read_excel(file_path)\n",
    "\n",
    "print(df.head())"
   ]
  },
  {
   "cell_type": "code",
   "execution_count": 10,
   "id": "79943cbf",
   "metadata": {},
   "outputs": [
    {
     "name": "stdout",
     "output_type": "stream",
     "text": [
      "White                 27816\n",
      "Black                  3124\n",
      "Asian-Pac-Islander     1039\n",
      "Amer-Indian-Eskimo      311\n",
      "Other                   271\n",
      "Name: race, dtype: int64\n"
     ]
    }
   ],
   "source": [
    " # How many of each race are represented in this dataset? This should be a Pandas series with race names as the index labels.\n",
    "race_count = df['race'].value_counts()\n",
    "\n",
    "print(race_count)\n"
   ]
  },
  {
   "cell_type": "code",
   "execution_count": 12,
   "id": "8b1a2a20",
   "metadata": {},
   "outputs": [
    {
     "name": "stdout",
     "output_type": "stream",
     "text": [
      "39.4\n"
     ]
    }
   ],
   "source": [
    "# What is the average age of men?\n",
    "average_age_men = round( df.groupby('sex')['age'].mean()['Male'], 1 )\n",
    "\n",
    "print(average_age_men)"
   ]
  },
  {
   "cell_type": "code",
   "execution_count": 13,
   "id": "13a6ef98",
   "metadata": {},
   "outputs": [
    {
     "name": "stdout",
     "output_type": "stream",
     "text": [
      "16.4\n"
     ]
    }
   ],
   "source": [
    " # What is the percentage of people who have a Bachelor's degree?\n",
    "percentage_bachelors = round( df['education'].value_counts(normalize=True)['Bachelors'] * 100.0, 1 )\n",
    "\n",
    "print(percentage_bachelors)"
   ]
  },
  {
   "cell_type": "code",
   "execution_count": 14,
   "id": "2f03e77f",
   "metadata": {},
   "outputs": [
    {
     "name": "stdout",
     "output_type": "stream",
     "text": [
      "46.5\n",
      "17.4\n"
     ]
    }
   ],
   "source": [
    " # What percentage of people with advanced education (`Bachelors`, `Masters`, or `Doctorate`) make more than 50K?\n",
    " # What percentage of people without advanced education make more than 50K?\n",
    "\n",
    "\n",
    "#round(100* / , 1 )\n",
    "# with and without `Bachelors`, `Masters`, or `Doctorate`\n",
    "higher_education =  df.loc[df['education'].isin(['Bachelors', 'Masters', 'Doctorate'])]\n",
    "lower_education = df.loc[~df['education'].isin(['Bachelors', 'Masters', 'Doctorate'])]\n",
    "\n",
    "# percentage with salary >50K\n",
    "higher_education_rich = round(100.0 * (higher_education['salary'] == '>50K').sum() / len(higher_education), 1 )\n",
    "lower_education_rich = round(100.0 * (lower_education['salary'] == '>50K').sum() / len(lower_education), 1 )\n",
    "\n",
    "print(higher_education_rich)\n",
    "print(lower_education_rich)\n"
   ]
  },
  {
   "cell_type": "code",
   "execution_count": 15,
   "id": "236f2ce4",
   "metadata": {},
   "outputs": [
    {
     "name": "stdout",
     "output_type": "stream",
     "text": [
      "1\n"
     ]
    }
   ],
   "source": [
    "# What is the minimum number of hours a person works per week (hours-per-week feature)?\n",
    "min_work_hours = df['hours-per-week'].min()\n",
    "\n",
    "print(min_work_hours)\n",
    "    "
   ]
  },
  {
   "cell_type": "code",
   "execution_count": 16,
   "id": "0b8a3265",
   "metadata": {},
   "outputs": [
    {
     "name": "stdout",
     "output_type": "stream",
     "text": [
      "10.0\n"
     ]
    }
   ],
   "source": [
    "# What percentage of the people who work the minimum number of hours per week have a salary of >50K?\n",
    "num_min_workers = df.loc[df['hours-per-week'] == min_work_hours]\n",
    "\n",
    "rich_percentage = round(100.0 * (num_min_workers['salary'] == '>50K').sum() / len(num_min_workers) , 1 )\n",
    "\n",
    "print(rich_percentage)"
   ]
  },
  {
   "cell_type": "code",
   "execution_count": 19,
   "id": "54d2157c",
   "metadata": {},
   "outputs": [
    {
     "name": "stdout",
     "output_type": "stream",
     "text": [
      "37.5\n",
      "Yugoslavia\n"
     ]
    }
   ],
   "source": [
    " # What country has the highest percentage of people that earn >50K?\n",
    "highest_earning_country = None\n",
    "highest_earning_country_percentage = 0.0   \n",
    "    \n",
    "for country, data in df.groupby('native-country'):\n",
    "    percentage = (data['salary'] == '>50K').sum() / data['salary'].count()\n",
    "    \n",
    "if highest_earning_country_percentage < percentage:\n",
    "    highest_earning_country_percentage = percentage\n",
    "    highest_earning_country = country\n",
    "            \n",
    "highest_earning_country_percentage = round(100 * highest_earning_country_percentage,1)\n",
    "print(highest_earning_country_percentage)\n",
    "print(highest_earning_country)"
   ]
  },
  {
   "cell_type": "code",
   "execution_count": 21,
   "id": "1b54bc97",
   "metadata": {},
   "outputs": [
    {
     "name": "stdout",
     "output_type": "stream",
     "text": [
      "Prof-specialty\n"
     ]
    }
   ],
   "source": [
    "# Identify the most popular occupation for those who earn >50K in India.\n",
    "top_IN_occupation = df[(df['salary'] == '>50K') & (df['native-country'] == 'India')]['occupation'].value_counts().keys()[0]\n",
    "\n",
    "print(top_IN_occupation)"
   ]
  },
  {
   "cell_type": "code",
   "execution_count": 28,
   "id": "c42e8ec3",
   "metadata": {},
   "outputs": [],
   "source": [
    "def analyze_demographic_data(print_data=False):\n",
    "    if print_data:\n",
    "        print(\"Number of each race:\\n\", race_count) \n",
    "        print(\"Average age of men:\", average_age_men)\n",
    "        print(f\"Percentage with Bachelors degrees: {percentage_bachelors}%\")\n",
    "        print(f\"Percentage with higher education that earn >50K: {higher_education_rich}%\")\n",
    "        print(f\"Percentage without higher education that earn >50K: {lower_education_rich}%\")\n",
    "        print(f\"Min work time: {min_work_hours} hours/week\")\n",
    "        print(f\"Percentage of rich among those who work fewest hours: {rich_percentage}%\")\n",
    "        print(\"Country with highest percentage of rich:\", highest_earning_country)\n",
    "        print(f\"Highest percentage of rich people in country: {highest_earning_country_percentage}%\")\n",
    "        print(\"Top occupations in India:\", top_IN_occupation)\n",
    "    \n",
    "    return {\n",
    "        'race_count': race_count,\n",
    "        'average_age_men': average_age_men,\n",
    "        'percentage_bachelors': percentage_bachelors,\n",
    "        'higher_education_rich': higher_education_rich,\n",
    "        'lower_education_rich': lower_education_rich,\n",
    "        'min_work_hours': min_work_hours,\n",
    "        'rich_percentage': rich_percentage,\n",
    "        'highest_earning_country': highest_earning_country,\n",
    "        'highest_earning_country_percentage': highest_earning_country_percentage,\n",
    "        'top_IN_occupation': top_IN_occupation\n",
    "    }"
   ]
  },
  {
   "cell_type": "code",
   "execution_count": null,
   "id": "cfa5bcbb",
   "metadata": {},
   "outputs": [],
   "source": []
  }
 ],
 "metadata": {
  "kernelspec": {
   "display_name": "Python 3 (ipykernel)",
   "language": "python",
   "name": "python3"
  },
  "language_info": {
   "codemirror_mode": {
    "name": "ipython",
    "version": 3
   },
   "file_extension": ".py",
   "mimetype": "text/x-python",
   "name": "python",
   "nbconvert_exporter": "python",
   "pygments_lexer": "ipython3",
   "version": "3.10.9"
  }
 },
 "nbformat": 4,
 "nbformat_minor": 5
}
