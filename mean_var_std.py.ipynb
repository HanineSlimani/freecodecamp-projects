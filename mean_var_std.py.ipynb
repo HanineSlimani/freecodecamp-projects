{
 "cells": [
  {
   "cell_type": "code",
   "execution_count": 7,
   "id": "cb4f02d9",
   "metadata": {},
   "outputs": [],
   "source": [
    "import numpy as np"
   ]
  },
  {
   "cell_type": "code",
   "execution_count": 12,
   "id": "9dd5bbd8",
   "metadata": {},
   "outputs": [],
   "source": [
    "def calculate(input_list):\n",
    "    if len(input_list) != 9:\n",
    "        raise ValueError(\"List must contain nine numbers.\")\n",
    "    \n",
    "    matrix = np.array(input_list).reshape(3, 3)\n",
    "    \n",
    "    calculations = {\n",
    "        'mean': [\n",
    "            matrix.mean(axis=0).tolist(),\n",
    "            matrix.mean(axis=1).tolist(),\n",
    "            matrix.mean().item()\n",
    "        ],\n",
    "        'variance': [\n",
    "            matrix.var(axis=0).tolist(),\n",
    "            matrix.var(axis=1).tolist(),\n",
    "            matrix.var().item()\n",
    "        ],\n",
    "        'standard deviation': [\n",
    "            matrix.std(axis=0).tolist(),\n",
    "            matrix.std(axis=1).tolist(),\n",
    "            matrix.std().item()\n",
    "        ],\n",
    "        'max': [\n",
    "            matrix.max(axis=0).tolist(),\n",
    "            matrix.max(axis=1).tolist(),\n",
    "            matrix.max().item()\n",
    "        ],\n",
    "        'min': [\n",
    "            matrix.min(axis=0).tolist(),\n",
    "            matrix.min(axis=1).tolist(),\n",
    "            matrix.min().item()\n",
    "        ],\n",
    "        'sum': [\n",
    "            matrix.sum(axis=0).tolist(),\n",
    "            matrix.sum(axis=1).tolist(),\n",
    "            matrix.sum().item()\n",
    "        ]\n",
    "    }\n",
    "    \n",
    "    return calculations\n",
    "\n",
    "\n"
   ]
  },
  {
   "cell_type": "code",
   "execution_count": 13,
   "id": "f3ad1b5e",
   "metadata": {},
   "outputs": [
    {
     "data": {
      "text/plain": [
       "{'mean': [[3.0, 4.0, 5.0], [1.0, 4.0, 7.0], 4.0],\n",
       " 'variance': [[6.0, 6.0, 6.0],\n",
       "  [0.6666666666666666, 0.6666666666666666, 0.6666666666666666],\n",
       "  6.666666666666667],\n",
       " 'standard deviation': [[2.449489742783178,\n",
       "   2.449489742783178,\n",
       "   2.449489742783178],\n",
       "  [0.816496580927726, 0.816496580927726, 0.816496580927726],\n",
       "  2.581988897471611],\n",
       " 'max': [[6, 7, 8], [2, 5, 8], 8],\n",
       " 'min': [[0, 1, 2], [0, 3, 6], 0],\n",
       " 'sum': [[9, 12, 15], [3, 12, 21], 36]}"
      ]
     },
     "execution_count": 13,
     "metadata": {},
     "output_type": "execute_result"
    }
   ],
   "source": [
    "calculate([0,1,2,3,4,5,6,7,8])"
   ]
  },
  {
   "cell_type": "code",
   "execution_count": 16,
   "id": "42a9ed99",
   "metadata": {},
   "outputs": [
    {
     "ename": "ModuleNotFoundError",
     "evalue": "No module named 'mean_var_std'",
     "output_type": "error",
     "traceback": [
      "\u001b[1;31m---------------------------------------------------------------------------\u001b[0m",
      "\u001b[1;31mModuleNotFoundError\u001b[0m                       Traceback (most recent call last)",
      "Cell \u001b[1;32mIn[16], line 1\u001b[0m\n\u001b[1;32m----> 1\u001b[0m \u001b[38;5;28;01mfrom\u001b[39;00m \u001b[38;5;21;01mmean_var_std\u001b[39;00m \u001b[38;5;28;01mimport\u001b[39;00m calculate\n",
      "\u001b[1;31mModuleNotFoundError\u001b[0m: No module named 'mean_var_std'"
     ]
    }
   ],
   "source": [
    "from mean_var_std import calculate\n"
   ]
  },
  {
   "cell_type": "code",
   "execution_count": null,
   "id": "e354996c",
   "metadata": {},
   "outputs": [],
   "source": []
  }
 ],
 "metadata": {
  "kernelspec": {
   "display_name": "Python 3 (ipykernel)",
   "language": "python",
   "name": "python3"
  },
  "language_info": {
   "codemirror_mode": {
    "name": "ipython",
    "version": 3
   },
   "file_extension": ".py",
   "mimetype": "text/x-python",
   "name": "python",
   "nbconvert_exporter": "python",
   "pygments_lexer": "ipython3",
   "version": "3.10.9"
  }
 },
 "nbformat": 4,
 "nbformat_minor": 5
}
